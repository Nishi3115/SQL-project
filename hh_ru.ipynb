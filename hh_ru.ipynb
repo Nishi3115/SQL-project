{
  "cells": [
    {
      "cell_type": "markdown",
      "id": "42289889-bd57-434e-9637-d3e354756316",
      "metadata": {
        "id": "42289889-bd57-434e-9637-d3e354756316"
      },
      "source": [
        "<center> <img src = https://raw.githubusercontent.com/AndreyRysistov/DatasetsForPandas/main/hh%20label.jpg alt=\"drawing\" style=\"width:400px;\">"
      ]
    },
    {
      "cell_type": "markdown",
      "id": "829cb75b-f14e-4ba8-9195-7ba929a7d656",
      "metadata": {
        "id": "829cb75b-f14e-4ba8-9195-7ba929a7d656",
        "tags": []
      },
      "source": [
        "# <center> Проект: Анализ вакансий из HeadHunter\n",
        "   "
      ]
    },
    {
      "cell_type": "code",
      "execution_count": 1,
      "id": "dccfde33-2452-43fb-a8a5-5c6ebc02a71d",
      "metadata": {
        "id": "dccfde33-2452-43fb-a8a5-5c6ebc02a71d"
      },
      "outputs": [],
      "source": [
        "import pandas as pd\n",
        "import psycopg2\n",
        "import requests\n",
        "from bs4 import BeautifulSoup"
      ]
    },
    {
      "cell_type": "code",
      "execution_count": 174,
      "id": "oVKH4ehvf8Ay",
      "metadata": {
        "id": "oVKH4ehvf8Ay"
      },
      "outputs": [],
      "source": [
        "DBNAME = 'project_sql'\n",
        "USER = 'skillfactory'\n",
        "PASSWORD = 'cCkxxLVrDE8EbvjueeMedPKt'\n",
        "HOST = '84.201.134.129'\n",
        "PORT = 5432"
      ]
    },
    {
      "cell_type": "code",
      "execution_count": 175,
      "id": "G4X_q8KBf7SF",
      "metadata": {
        "id": "G4X_q8KBf7SF"
      },
      "outputs": [],
      "source": [
        "connection = psycopg2.connect(\n",
        "    dbname=DBNAME,\n",
        "    user=USER,\n",
        "    host=HOST,\n",
        "    password=PASSWORD,\n",
        "    port=PORT\n",
        ")"
      ]
    },
    {
      "cell_type": "markdown",
      "id": "0dc6476b-7a00-44f1-ac93-6e3baed33a29",
      "metadata": {
        "id": "0dc6476b-7a00-44f1-ac93-6e3baed33a29"
      },
      "source": [
        "# Юнит 3. Предварительный анализ данных"
      ]
    },
    {
      "cell_type": "markdown",
      "id": "889782b6-8d1c-410e-8920-e57f27917c64",
      "metadata": {
        "id": "889782b6-8d1c-410e-8920-e57f27917c64"
      },
      "source": [
        "1. Напишите запрос, который посчитает количество вакансий в нашей базе (вакансии находятся в таблице vacancies). "
      ]
    },
    {
      "cell_type": "code",
      "execution_count": 176,
      "id": "bc39e68e-ed02-4ee2-9235-7258a2f867a8",
      "metadata": {
        "id": "bc39e68e-ed02-4ee2-9235-7258a2f867a8"
      },
      "outputs": [],
      "source": [
        "# текст запроса\n",
        "query_3_1 = f'''\n",
        "    select distinct count(*)\n",
        "    from public.vacancies\n",
        "'''"
      ]
    },
    {
      "cell_type": "code",
      "execution_count": 177,
      "id": "7mAwtsk4hEHY",
      "metadata": {
        "id": "7mAwtsk4hEHY"
      },
      "outputs": [
        {
          "name": "stderr",
          "output_type": "stream",
          "text": [
            "C:\\Users\\Иван\\AppData\\Local\\Temp\\ipykernel_12200\\2173422648.py:2: UserWarning: pandas only supports SQLAlchemy connectable (engine/connection) or database string URI or sqlite3 DBAPI2 connection. Other DBAPI2 objects are not tested. Please consider using SQLAlchemy.\n",
            "  df = pd.read_sql_query(query_3_1, connection)\n"
          ]
        },
        {
          "name": "stdout",
          "output_type": "stream",
          "text": [
            "   count\n",
            "0  49197\n"
          ]
        }
      ],
      "source": [
        "# результат запроса\n",
        "df = pd.read_sql_query(query_3_1, connection)\n",
        "print(df)"
      ]
    },
    {
      "cell_type": "markdown",
      "id": "b583485d-1f9e-494e-ada4-80ffff7c53d6",
      "metadata": {
        "id": "b583485d-1f9e-494e-ada4-80ffff7c53d6"
      },
      "source": [
        "2. Напишите запрос, который посчитает количество работодателей (таблица employers). "
      ]
    },
    {
      "cell_type": "code",
      "execution_count": 178,
      "id": "5408c52c-3407-4a63-b25b-1aafa2322d28",
      "metadata": {
        "id": "5408c52c-3407-4a63-b25b-1aafa2322d28"
      },
      "outputs": [],
      "source": [
        "# текст запроса\n",
        "query_3_2 = '''\n",
        "    select distinct count(*)\n",
        "    from public.employers\n",
        "'''"
      ]
    },
    {
      "cell_type": "code",
      "execution_count": 179,
      "id": "jVL4eshKhdqc",
      "metadata": {
        "id": "jVL4eshKhdqc"
      },
      "outputs": [
        {
          "name": "stdout",
          "output_type": "stream",
          "text": [
            "   count\n",
            "0  23501\n"
          ]
        },
        {
          "name": "stderr",
          "output_type": "stream",
          "text": [
            "C:\\Users\\Иван\\AppData\\Local\\Temp\\ipykernel_12200\\2813488741.py:2: UserWarning: pandas only supports SQLAlchemy connectable (engine/connection) or database string URI or sqlite3 DBAPI2 connection. Other DBAPI2 objects are not tested. Please consider using SQLAlchemy.\n",
            "  df = pd.read_sql_query(query_3_2, connection)\n"
          ]
        }
      ],
      "source": [
        "# результат запроса\n",
        "df = pd.read_sql_query(query_3_2, connection)\n",
        "print(df)"
      ]
    },
    {
      "cell_type": "markdown",
      "id": "a2bfff1f-c975-4bf6-84be-2185d79dcb76",
      "metadata": {
        "id": "a2bfff1f-c975-4bf6-84be-2185d79dcb76"
      },
      "source": [
        "3. Посчитате с помощью запроса количество регионов (таблица areas)."
      ]
    },
    {
      "cell_type": "code",
      "execution_count": 180,
      "id": "1m8QJwBYhey6",
      "metadata": {
        "id": "1m8QJwBYhey6"
      },
      "outputs": [],
      "source": [
        "# текст запроса\n",
        "query_3_3 = f'''\n",
        "    select distinct count(*)\n",
        "    from public.areas\n",
        "'''"
      ]
    },
    {
      "cell_type": "code",
      "execution_count": 181,
      "id": "EZsn9tlfhe7f",
      "metadata": {
        "id": "EZsn9tlfhe7f"
      },
      "outputs": [
        {
          "name": "stderr",
          "output_type": "stream",
          "text": [
            "C:\\Users\\Иван\\AppData\\Local\\Temp\\ipykernel_12200\\1558151174.py:2: UserWarning: pandas only supports SQLAlchemy connectable (engine/connection) or database string URI or sqlite3 DBAPI2 connection. Other DBAPI2 objects are not tested. Please consider using SQLAlchemy.\n",
            "  df = pd.read_sql_query(query_3_3, connection)\n"
          ]
        },
        {
          "name": "stdout",
          "output_type": "stream",
          "text": [
            "   count\n",
            "0   1362\n"
          ]
        }
      ],
      "source": [
        "# результат запроса\n",
        "df = pd.read_sql_query(query_3_3, connection)\n",
        "print(df)"
      ]
    },
    {
      "cell_type": "markdown",
      "id": "41bb59f3-53cc-4a67-a5bc-bedf573955e4",
      "metadata": {
        "id": "41bb59f3-53cc-4a67-a5bc-bedf573955e4"
      },
      "source": [
        "4. Посчитате с помощью запроса количество сфер деятельности в базе (таблица industries)."
      ]
    },
    {
      "cell_type": "code",
      "execution_count": 182,
      "id": "d286cf4c-707b-4cd2-9190-7ab3587d04a1",
      "metadata": {
        "id": "d286cf4c-707b-4cd2-9190-7ab3587d04a1"
      },
      "outputs": [],
      "source": [
        "# текст запроса\n",
        "query_3_4 = f'''\n",
        "    select distinct count(*)\n",
        "    from public.industries\n",
        "'''"
      ]
    },
    {
      "cell_type": "code",
      "execution_count": 183,
      "id": "JYAaoZ4qhfzW",
      "metadata": {
        "id": "JYAaoZ4qhfzW"
      },
      "outputs": [
        {
          "name": "stdout",
          "output_type": "stream",
          "text": [
            "   count\n",
            "0    294\n"
          ]
        },
        {
          "name": "stderr",
          "output_type": "stream",
          "text": [
            "C:\\Users\\Иван\\AppData\\Local\\Temp\\ipykernel_12200\\729770387.py:2: UserWarning: pandas only supports SQLAlchemy connectable (engine/connection) or database string URI or sqlite3 DBAPI2 connection. Other DBAPI2 objects are not tested. Please consider using SQLAlchemy.\n",
            "  df = pd.read_sql_query(query_3_4, connection)\n"
          ]
        }
      ],
      "source": [
        "# результат запроса\n",
        "df = pd.read_sql_query(query_3_4, connection)\n",
        "print(df)"
      ]
    },
    {
      "cell_type": "markdown",
      "id": "9a8a2181-6914-448b-85f1-38f5f18b8a93",
      "metadata": {
        "id": "9a8a2181-6914-448b-85f1-38f5f18b8a93"
      },
      "source": [
        "***"
      ]
    },
    {
      "cell_type": "markdown",
      "id": "be4e9bd3-a4db-4a20-82fb-6b02fc2957e0",
      "metadata": {
        "id": "be4e9bd3-a4db-4a20-82fb-6b02fc2957e0"
      },
      "source": [
        "### выводы по предварительному анализу данных  \n",
        "В базе 49 тысяч вакансий, это довольно мало, учитывая что в базе представлены 1362 региона и 23500 работодателей.  \n",
        "294 сферы деятельности => присутствует разнообразие областей, в которых можно поискать вакансии"
      ]
    },
    {
      "cell_type": "markdown",
      "id": "8d62a9f3-f64e-4fe7-bdac-c4dffa16155e",
      "metadata": {
        "id": "8d62a9f3-f64e-4fe7-bdac-c4dffa16155e"
      },
      "source": [
        "# Юнит 4. Детальный анализ вакансий"
      ]
    },
    {
      "cell_type": "markdown",
      "id": "93053d3d-b284-481a-9cf7-012d7014c0e0",
      "metadata": {
        "id": "93053d3d-b284-481a-9cf7-012d7014c0e0"
      },
      "source": [
        "1. Напишите запрос, который позволит узнать, сколько (cnt) вакансий в каждом регионе (area).\n",
        "Отсортируйте по количеству вакансий в порядке убывания."
      ]
    },
    {
      "cell_type": "code",
      "execution_count": 184,
      "id": "3f069da6-fdc9-4ae7-b514-fafe2675efd3",
      "metadata": {
        "id": "3f069da6-fdc9-4ae7-b514-fafe2675efd3"
      },
      "outputs": [],
      "source": [
        "# текст запроса\n",
        "query_4_1 = f'''\n",
        "    select\n",
        "        ar.name,\n",
        "        count(*)\n",
        "    from public.vacancies vac\n",
        "    join public.areas ar on ar.id = vac.area_id\n",
        "    group by ar.name\n",
        "    order by count(*) desc\n",
        "'''"
      ]
    },
    {
      "cell_type": "code",
      "execution_count": 185,
      "id": "P7QL86hrjhRJ",
      "metadata": {
        "id": "P7QL86hrjhRJ"
      },
      "outputs": [
        {
          "name": "stderr",
          "output_type": "stream",
          "text": [
            "C:\\Users\\Иван\\AppData\\Local\\Temp\\ipykernel_12200\\1574996576.py:2: UserWarning: pandas only supports SQLAlchemy connectable (engine/connection) or database string URI or sqlite3 DBAPI2 connection. Other DBAPI2 objects are not tested. Please consider using SQLAlchemy.\n",
            "  df = pd.read_sql_query(query_4_1, connection)\n"
          ]
        },
        {
          "name": "stdout",
          "output_type": "stream",
          "text": [
            "                name  count\n",
            "0             Москва   5333\n",
            "1    Санкт-Петербург   2851\n",
            "2              Минск   2112\n",
            "3        Новосибирск   2006\n",
            "4             Алматы   1892\n",
            "..               ...    ...\n",
            "764       Тарко-Сале      1\n",
            "765    Новоаннинский      1\n",
            "766            Бирск      1\n",
            "767           Сасово      1\n",
            "768             Анна      1\n",
            "\n",
            "[769 rows x 2 columns]\n"
          ]
        }
      ],
      "source": [
        "# результат запроса\n",
        "df = pd.read_sql_query(query_4_1, connection)\n",
        "print(df)"
      ]
    },
    {
      "cell_type": "markdown",
      "id": "4266f0b6-1646-492a-88b4-2f6a46502135",
      "metadata": {
        "id": "4266f0b6-1646-492a-88b4-2f6a46502135"
      },
      "source": [
        "2. Напишите запрос, чтобы определить у какого количества вакансий заполнено хотя бы одно из двух полей с зарплатой."
      ]
    },
    {
      "cell_type": "code",
      "execution_count": 186,
      "id": "0c44b350-72eb-4d65-8b54-a1fc449ba9fd",
      "metadata": {
        "id": "0c44b350-72eb-4d65-8b54-a1fc449ba9fd"
      },
      "outputs": [],
      "source": [
        "# текст запроса\n",
        "query_4_2 = f'''\n",
        "    select count(*)\n",
        "    from public.vacancies vac\n",
        "    where (vac.salary_from is not null) or (vac.salary_to is not null)\n",
        "'''"
      ]
    },
    {
      "cell_type": "code",
      "execution_count": 187,
      "id": "rhvwaMDkoWTi",
      "metadata": {
        "id": "rhvwaMDkoWTi"
      },
      "outputs": [
        {
          "name": "stdout",
          "output_type": "stream",
          "text": [
            "   count\n",
            "0  24073\n"
          ]
        },
        {
          "name": "stderr",
          "output_type": "stream",
          "text": [
            "C:\\Users\\Иван\\AppData\\Local\\Temp\\ipykernel_12200\\1991716859.py:2: UserWarning: pandas only supports SQLAlchemy connectable (engine/connection) or database string URI or sqlite3 DBAPI2 connection. Other DBAPI2 objects are not tested. Please consider using SQLAlchemy.\n",
            "  df = pd.read_sql_query(query_4_2, connection)\n"
          ]
        }
      ],
      "source": [
        "# результат запроса\n",
        "df = pd.read_sql_query(query_4_2, connection)\n",
        "print(df)"
      ]
    },
    {
      "cell_type": "markdown",
      "id": "635c4d5d-f323-4c66-b428-50a088120aa0",
      "metadata": {
        "id": "635c4d5d-f323-4c66-b428-50a088120aa0"
      },
      "source": [
        "3. Найдите средние значения для нижней и верхней границы зарплатной вилки. Округлите значения до целого."
      ]
    },
    {
      "cell_type": "code",
      "execution_count": 188,
      "id": "603cdbe4-0ec3-4106-8eaf-c73fcdd29165",
      "metadata": {
        "id": "603cdbe4-0ec3-4106-8eaf-c73fcdd29165"
      },
      "outputs": [],
      "source": [
        "# текст запроса\n",
        "query_4_3 = f'''\n",
        "    with from_ as (\n",
        "        select avg(vac.salary_from)\n",
        "        from public.vacancies vac\n",
        "        where vac.salary_from is not null\n",
        "    ), to_ as (\n",
        "        select avg(vac.salary_to)\n",
        "        from public.vacancies vac\n",
        "        where vac.salary_to is not null\n",
        "    )\n",
        "    select * from from_\n",
        "    union all select * from to_\n",
        "'''"
      ]
    },
    {
      "cell_type": "code",
      "execution_count": 189,
      "id": "pswpAb66ovZZ",
      "metadata": {
        "id": "pswpAb66ovZZ"
      },
      "outputs": [
        {
          "name": "stdout",
          "output_type": "stream",
          "text": [
            "             avg\n",
            "0   71064.657901\n",
            "1  110536.741923\n"
          ]
        },
        {
          "name": "stderr",
          "output_type": "stream",
          "text": [
            "C:\\Users\\Иван\\AppData\\Local\\Temp\\ipykernel_12200\\3795284598.py:2: UserWarning: pandas only supports SQLAlchemy connectable (engine/connection) or database string URI or sqlite3 DBAPI2 connection. Other DBAPI2 objects are not tested. Please consider using SQLAlchemy.\n",
            "  df = pd.read_sql_query(query_4_3, connection)\n"
          ]
        }
      ],
      "source": [
        "# результат запроса\n",
        "df = pd.read_sql_query(query_4_3, connection)\n",
        "print(df)"
      ]
    },
    {
      "cell_type": "markdown",
      "id": "f3fdaec9-5fd3-4260-9cf5-1d7406b628a5",
      "metadata": {
        "id": "f3fdaec9-5fd3-4260-9cf5-1d7406b628a5"
      },
      "source": [
        "4. Напишите запрос, который выведет количество вакансий для каждого сочетания типа рабочего графика (schedule) и типа трудоустройства (employment), используемого в вакансиях. Результат отсортируйте по убыванию количества.\n"
      ]
    },
    {
      "cell_type": "code",
      "execution_count": 190,
      "id": "1ea710ec-871b-431e-9462-c7d0fd87011b",
      "metadata": {
        "id": "1ea710ec-871b-431e-9462-c7d0fd87011b"
      },
      "outputs": [],
      "source": [
        "# текст запроса\n",
        "query_4_4 = f'''\n",
        "    select\n",
        "        schedule,\n",
        "        employment,\n",
        "        count(*)\n",
        "    from public.vacancies\n",
        "    group by schedule, employment\n",
        "    order by count(*) desc\n",
        "'''"
      ]
    },
    {
      "cell_type": "code",
      "execution_count": 191,
      "id": "lGUVqavdo4JQ",
      "metadata": {
        "id": "lGUVqavdo4JQ"
      },
      "outputs": [
        {
          "name": "stderr",
          "output_type": "stream",
          "text": [
            "C:\\Users\\Иван\\AppData\\Local\\Temp\\ipykernel_12200\\512236719.py:2: UserWarning: pandas only supports SQLAlchemy connectable (engine/connection) or database string URI or sqlite3 DBAPI2 connection. Other DBAPI2 objects are not tested. Please consider using SQLAlchemy.\n",
            "  df = pd.read_sql_query(query_4_4, connection)\n"
          ]
        },
        {
          "name": "stdout",
          "output_type": "stream",
          "text": [
            "            schedule           employment  count\n",
            "0        Полный день     Полная занятость  35367\n",
            "1   Удаленная работа     Полная занятость   7802\n",
            "2      Гибкий график     Полная занятость   1593\n",
            "3   Удаленная работа  Частичная занятость   1312\n",
            "4     Сменный график     Полная занятость    940\n",
            "5        Полный день           Стажировка    569\n",
            "6     Вахтовый метод     Полная занятость    367\n",
            "7        Полный день  Частичная занятость    347\n",
            "8      Гибкий график  Частичная занятость    312\n",
            "9        Полный день     Проектная работа    141\n",
            "10  Удаленная работа     Проектная работа    133\n",
            "11     Гибкий график           Стажировка    116\n",
            "12    Сменный график  Частичная занятость    101\n",
            "13  Удаленная работа           Стажировка     64\n",
            "14     Гибкий график     Проектная работа     18\n",
            "15    Сменный график           Стажировка     12\n",
            "16    Вахтовый метод     Проектная работа      2\n",
            "17    Сменный график     Проектная работа      1\n"
          ]
        }
      ],
      "source": [
        "# результат запроса\n",
        "df = pd.read_sql_query(query_4_4, connection)\n",
        "print(df)"
      ]
    },
    {
      "cell_type": "markdown",
      "id": "0136ffee-0ead-4a6b-b608-61d1c753a438",
      "metadata": {
        "id": "0136ffee-0ead-4a6b-b608-61d1c753a438"
      },
      "source": [
        "5. Напишите запрос, выводящий значения поля Требуемый опыт работы (experience) в порядке возрастания количества вакансий, в которых указан данный вариант опыта. "
      ]
    },
    {
      "cell_type": "code",
      "execution_count": 192,
      "id": "5b3a8e79-f7ab-4008-b767-12aea3a205ea",
      "metadata": {
        "id": "5b3a8e79-f7ab-4008-b767-12aea3a205ea"
      },
      "outputs": [],
      "source": [
        "# текст запроса\n",
        "query_4_5 = f'''\n",
        "    select\n",
        "        experience,\n",
        "        count(*)\n",
        "    from public.vacancies\n",
        "    group by experience\n",
        "    order by count(*)\n",
        "'''"
      ]
    },
    {
      "cell_type": "code",
      "execution_count": 193,
      "id": "3Is64Y-hpDpq",
      "metadata": {
        "id": "3Is64Y-hpDpq"
      },
      "outputs": [
        {
          "name": "stdout",
          "output_type": "stream",
          "text": [
            "           experience  count\n",
            "0         Более 6 лет   1337\n",
            "1           Нет опыта   7197\n",
            "2       От 3 до 6 лет  14511\n",
            "3  От 1 года до 3 лет  26152\n"
          ]
        },
        {
          "name": "stderr",
          "output_type": "stream",
          "text": [
            "C:\\Users\\Иван\\AppData\\Local\\Temp\\ipykernel_12200\\3410932330.py:2: UserWarning: pandas only supports SQLAlchemy connectable (engine/connection) or database string URI or sqlite3 DBAPI2 connection. Other DBAPI2 objects are not tested. Please consider using SQLAlchemy.\n",
            "  df = pd.read_sql_query(query_4_5, connection)\n"
          ]
        }
      ],
      "source": [
        "# результат запроса\n",
        "df = pd.read_sql_query(query_4_5, connection)\n",
        "print(df)"
      ]
    },
    {
      "cell_type": "markdown",
      "id": "oq2b7n1QpIka",
      "metadata": {
        "id": "oq2b7n1QpIka"
      },
      "source": [
        "***"
      ]
    },
    {
      "cell_type": "markdown",
      "id": "e91f87ed-e25c-4f96-9f92-b642e8c0b4fa",
      "metadata": {
        "id": "e91f87ed-e25c-4f96-9f92-b642e8c0b4fa"
      },
      "source": [
        "### Выводы по детальному анализу вакансий  \n",
        "Лидеры по количеству вакансий - это весьма развитые крупные города миллионники, такие как Москва, Санкт-Петербург, Минск.  \n",
        "Лишь у половины вакансий заполнено хотя бы одно поле с зарплатой. Это свидетельствует о том, что либо работодали небрежно заполняют объявления, либо заработную плату на многих вакансия трудно оценить или она сильно варьируется в зависимости от кандидата.  \n",
        "Средняя нижняя граница з/п 71000, это средняя з/п Junior разработчиков. Средняя верхняя граница з/п 110000, что является довольно низким показателем, так как большинство высоко квалифицированных специалистов в IT получают больше 200000 руб. Верхний показатель такой низкий, потому что на 26 тыс. вакансий требуются люди с опытом от 1 до 3 лет(это в большинстве случаев Junior разработчики). С другой стороны это хорошо, так как среди соискателей довольно много начинающих специалистов.  \n",
        "Большинство вакансий (около 70%) требуют полную занятость и полный рабочий день."
      ]
    },
    {
      "cell_type": "markdown",
      "id": "7ea20ab6-04a7-40a0-adec-443a0e5a42c3",
      "metadata": {
        "id": "7ea20ab6-04a7-40a0-adec-443a0e5a42c3"
      },
      "source": [
        "# Юнит 5. Анализ работодателей"
      ]
    },
    {
      "cell_type": "markdown",
      "id": "968aed80-74ef-4ffb-b5bf-c65b84e9caea",
      "metadata": {
        "id": "968aed80-74ef-4ffb-b5bf-c65b84e9caea"
      },
      "source": [
        "1. Напишите запрос, который позволит узнать, какие работодатели находятся на первом и пятом месте по количеству вакансий."
      ]
    },
    {
      "cell_type": "code",
      "execution_count": 194,
      "id": "f2d62796-d400-4ec1-a675-88112739a50e",
      "metadata": {
        "id": "f2d62796-d400-4ec1-a675-88112739a50e"
      },
      "outputs": [],
      "source": [
        "# текст запроса\n",
        "query_5_1 = f'''\n",
        "    select\n",
        "        emp.name,\n",
        "        count(*)\n",
        "    from public.vacancies vac\n",
        "    join public.employers emp on emp.id = vac.employer_id\n",
        "    group by emp.name\n",
        "    order by count(*) desc\n",
        "    limit 5\n",
        "'''"
      ]
    },
    {
      "cell_type": "code",
      "execution_count": 195,
      "id": "64tOMkAxqkQk",
      "metadata": {
        "id": "64tOMkAxqkQk"
      },
      "outputs": [
        {
          "name": "stderr",
          "output_type": "stream",
          "text": [
            "C:\\Users\\Иван\\AppData\\Local\\Temp\\ipykernel_12200\\1368165621.py:2: UserWarning: pandas only supports SQLAlchemy connectable (engine/connection) or database string URI or sqlite3 DBAPI2 connection. Other DBAPI2 objects are not tested. Please consider using SQLAlchemy.\n",
            "  df = pd.read_sql_query(query_5_1, connection)\n"
          ]
        },
        {
          "name": "stdout",
          "output_type": "stream",
          "text": [
            "            name  count\n",
            "0         Яндекс   1933\n",
            "1     Ростелеком    491\n",
            "2       Тинькофф    444\n",
            "3           СБЕР    428\n",
            "4  Газпром нефть    331\n"
          ]
        }
      ],
      "source": [
        "# результат запроса\n",
        "df = pd.read_sql_query(query_5_1, connection)\n",
        "print(df)"
      ]
    },
    {
      "cell_type": "markdown",
      "id": "68377cfc-b378-43dc-ab7d-1195abf2c515",
      "metadata": {
        "id": "68377cfc-b378-43dc-ab7d-1195abf2c515"
      },
      "source": [
        "2. Напишите запрос, который для каждого региона выведет количество работодателей и вакансий в нём.\n",
        "Среди регионов, в которых нет вакансий, найдите тот, в котором наибольшее количество работодателей.\n"
      ]
    },
    {
      "cell_type": "code",
      "execution_count": 225,
      "id": "dd7df27a-e3e8-412e-a21a-5d389b71e891",
      "metadata": {
        "id": "dd7df27a-e3e8-412e-a21a-5d389b71e891"
      },
      "outputs": [],
      "source": [
        "# текст запроса\n",
        "query_5_2_1 = f'''\n",
        "    select\n",
        "        ar.name,\n",
        "        count(emp.name)\n",
        "    from public.vacancies vac\n",
        "    right join public.areas ar on ar.id = vac.area_id\n",
        "    left join public.employers emp on ar.id = emp.area\n",
        "    group by ar.name\n",
        "    having count(vac.id) = 0\n",
        "    order by 2 desc\n",
        "'''"
      ]
    },
    {
      "cell_type": "code",
      "execution_count": 226,
      "id": "x1ikWbydrbf6",
      "metadata": {
        "id": "x1ikWbydrbf6"
      },
      "outputs": [
        {
          "name": "stderr",
          "output_type": "stream",
          "text": [
            "C:\\Users\\Иван\\AppData\\Local\\Temp\\ipykernel_12200\\3884540736.py:2: UserWarning: pandas only supports SQLAlchemy connectable (engine/connection) or database string URI or sqlite3 DBAPI2 connection. Other DBAPI2 objects are not tested. Please consider using SQLAlchemy.\n",
            "  df1 = pd.read_sql_query(query_5_2_1, connection)\n"
          ]
        },
        {
          "name": "stdout",
          "output_type": "stream",
          "text": [
            "                             name  count\n",
            "0                          Россия    410\n",
            "1                       Казахстан    207\n",
            "2              Московская область     75\n",
            "3              Краснодарский край     19\n",
            "4              Ростовская область     18\n",
            "..                            ...    ...\n",
            "588                      Струнино      0\n",
            "589    Славгород (Алтайский край)      0\n",
            "590                     Сорочинск      0\n",
            "591  Ленинский (Тульская область)      0\n",
            "592                         Тавда      0\n",
            "\n",
            "[593 rows x 2 columns]\n"
          ]
        }
      ],
      "source": [
        "# результат запроса\n",
        "df1 = pd.read_sql_query(query_5_2_1, connection)\n",
        "print(df1)"
      ]
    },
    {
      "cell_type": "markdown",
      "id": "f2fe0acb-ab1a-4e15-9326-2560e22d73c1",
      "metadata": {
        "id": "f2fe0acb-ab1a-4e15-9326-2560e22d73c1"
      },
      "source": [
        "3. Для каждого работодателя посчитайте количество регионов, в которых он публикует свои вакансии. Отсортируйте результат по убыванию количества.\n"
      ]
    },
    {
      "cell_type": "code",
      "execution_count": 198,
      "id": "6271f8ad-bd2e-4196-ae4a-5b39c4c1010e",
      "metadata": {
        "id": "6271f8ad-bd2e-4196-ae4a-5b39c4c1010e"
      },
      "outputs": [],
      "source": [
        "# текст запроса\n",
        "query_5_3 = f'''\n",
        "    select\n",
        "        emp.name,\n",
        "        count(distinct ar.name)\n",
        "    from public.vacancies vac\n",
        "    join public.areas ar on ar.id = vac.area_id\n",
        "    join public.employers emp on vac.employer_id = emp.id\n",
        "    group by emp.name\n",
        "    order by 2 desc\n",
        "'''"
      ]
    },
    {
      "cell_type": "code",
      "execution_count": 199,
      "id": "1EIvX3HasH4F",
      "metadata": {
        "id": "1EIvX3HasH4F"
      },
      "outputs": [
        {
          "name": "stderr",
          "output_type": "stream",
          "text": [
            "C:\\Users\\Иван\\AppData\\Local\\Temp\\ipykernel_12200\\2424163555.py:2: UserWarning: pandas only supports SQLAlchemy connectable (engine/connection) or database string URI or sqlite3 DBAPI2 connection. Other DBAPI2 objects are not tested. Please consider using SQLAlchemy.\n",
            "  df = pd.read_sql_query(query_5_3, connection)\n"
          ]
        },
        {
          "name": "stdout",
          "output_type": "stream",
          "text": [
            "                         name  count\n",
            "0                      Яндекс    181\n",
            "1                  Ростелеком    152\n",
            "2                  Спецремонт    116\n",
            "3      Поляков Денис Иванович     88\n",
            "4                   ООО ЕФИН      71\n",
            "...                       ...    ...\n",
            "14761                  UniSol      1\n",
            "14762            UNISTORY LLC      1\n",
            "14763                   UNIT6      1\n",
            "14764     United Distribution      1\n",
            "14765              UNITEL LLC      1\n",
            "\n",
            "[14766 rows x 2 columns]\n"
          ]
        }
      ],
      "source": [
        "# результат запроса\n",
        "df = pd.read_sql_query(query_5_3, connection)\n",
        "print(df)"
      ]
    },
    {
      "cell_type": "markdown",
      "id": "eab2206d-d95b-468b-8e5f-34381abf0ce7",
      "metadata": {
        "id": "eab2206d-d95b-468b-8e5f-34381abf0ce7"
      },
      "source": [
        "4. Напишите запрос для подсчёта количества работодателей, у которых не указана сфера деятельности. "
      ]
    },
    {
      "cell_type": "code",
      "execution_count": 200,
      "id": "80defb23-bfb1-4a18-8be6-bf36aa7165d5",
      "metadata": {
        "id": "80defb23-bfb1-4a18-8be6-bf36aa7165d5"
      },
      "outputs": [],
      "source": [
        "# текст запроса\n",
        "query_5_4 = f'''\n",
        "    select\n",
        "        emp.name\n",
        "    from public.employers emp\n",
        "    left join public.employers_industries emp_ind on emp.id = emp_ind.employer_id\n",
        "    left join public.industries ind on ind.id = emp_ind.industry_id\n",
        "    where ind.name is null\n",
        "    order by 1\n",
        "'''"
      ]
    },
    {
      "cell_type": "code",
      "execution_count": 201,
      "id": "Dp_yCx6ysQSu",
      "metadata": {
        "id": "Dp_yCx6ysQSu"
      },
      "outputs": [
        {
          "name": "stderr",
          "output_type": "stream",
          "text": [
            "C:\\Users\\Иван\\AppData\\Local\\Temp\\ipykernel_12200\\2049463723.py:2: UserWarning: pandas only supports SQLAlchemy connectable (engine/connection) or database string URI or sqlite3 DBAPI2 connection. Other DBAPI2 objects are not tested. Please consider using SQLAlchemy.\n",
            "  df = pd.read_sql_query(query_5_4, connection)\n"
          ]
        },
        {
          "name": "stdout",
          "output_type": "stream",
          "text": [
            "                                                   name\n",
            "0     1000 мелочей (ИП Гафиатуллина Гульшат Митарисо...\n",
            "1                                             1001 Soft\n",
            "2                                             100 печей\n",
            "3                                              101 Плюс\n",
            "4                                           1221Системс\n",
            "...                                                 ...\n",
            "8414           Ярославский завод упаковочных материалов\n",
            "8415                           Ярославский филиал ПГУПС\n",
            "8416    Ярославский ЦГМС - филиал ФГБУ Центральное УГМС\n",
            "8417                                       Ярпож Казань\n",
            "8418                            Яшнова Алена Викторовна\n",
            "\n",
            "[8419 rows x 1 columns]\n"
          ]
        }
      ],
      "source": [
        "# результат запроса\n",
        "df = pd.read_sql_query(query_5_4, connection)\n",
        "print(df)"
      ]
    },
    {
      "cell_type": "markdown",
      "id": "0112af31-f6b0-4e3b-82ab-71296e752e5e",
      "metadata": {
        "id": "0112af31-f6b0-4e3b-82ab-71296e752e5e"
      },
      "source": [
        "5. Напишите запрос, чтобы узнать название компании, находящейся на третьем месте в алфавитном списке (по названию) компаний, у которых указано четыре сферы деятельности. "
      ]
    },
    {
      "cell_type": "code",
      "execution_count": 202,
      "id": "973b0cfc-a972-470a-8b4a-68744ef220c4",
      "metadata": {
        "id": "973b0cfc-a972-470a-8b4a-68744ef220c4"
      },
      "outputs": [],
      "source": [
        "# текст запроса\n",
        "query_5_5 = f'''\n",
        "    select\n",
        "        emp.name,\n",
        "        count(*)\n",
        "    from public.employers_industries emp_ind\n",
        "    join public.employers emp on emp.id = emp_ind.employer_id\n",
        "    group by emp.name\n",
        "    having count(*) = 4\n",
        "    order by 1\n",
        "'''"
      ]
    },
    {
      "cell_type": "code",
      "execution_count": 203,
      "id": "xsPtpp8EsaED",
      "metadata": {
        "id": "xsPtpp8EsaED"
      },
      "outputs": [
        {
          "name": "stdout",
          "output_type": "stream",
          "text": [
            "                 name  count\n",
            "0        101 Интернет      4\n",
            "1            21vek.by      4\n",
            "2                2ГИС      4\n",
            "3                  2К      4\n",
            "4         4 пикселя +      4\n",
            "...               ...    ...\n",
            "1131            ЮРИОН      4\n",
            "1132  ЮТИП Технологии      4\n",
            "1133           ЯКласс      4\n",
            "1134            ЯрНео      4\n",
            "1135    Яшин&Партнёры      4\n",
            "\n",
            "[1136 rows x 2 columns]\n"
          ]
        },
        {
          "name": "stderr",
          "output_type": "stream",
          "text": [
            "C:\\Users\\Иван\\AppData\\Local\\Temp\\ipykernel_12200\\1574912611.py:2: UserWarning: pandas only supports SQLAlchemy connectable (engine/connection) or database string URI or sqlite3 DBAPI2 connection. Other DBAPI2 objects are not tested. Please consider using SQLAlchemy.\n",
            "  df = pd.read_sql_query(query_5_5, connection)\n"
          ]
        }
      ],
      "source": [
        "# результат запроса\n",
        "df = pd.read_sql_query(query_5_5, connection)\n",
        "print(df)"
      ]
    },
    {
      "cell_type": "markdown",
      "id": "3bfcfdaf-755d-4d2b-8ed8-326201dc07ab",
      "metadata": {
        "id": "3bfcfdaf-755d-4d2b-8ed8-326201dc07ab"
      },
      "source": [
        "6. С помощью запроса выясните, у какого количества работодателей в качестве сферы деятельности указана Разработка программного обеспечения.\n"
      ]
    },
    {
      "cell_type": "code",
      "execution_count": 204,
      "id": "ad3f270f-2991-47eb-929b-e8f88a55b0d1",
      "metadata": {
        "id": "ad3f270f-2991-47eb-929b-e8f88a55b0d1"
      },
      "outputs": [],
      "source": [
        "# текст запроса\n",
        "query_5_6 = f'''\n",
        "    select\n",
        "        count(*)\n",
        "    from public.employers_industries emp_ind\n",
        "    join public.employers emp on emp.id = emp_ind.employer_id\n",
        "    join public.industries ind on ind.id = emp_ind.industry_id\n",
        "    where ind.name = 'Разработка программного обеспечения'\n",
        "'''"
      ]
    },
    {
      "cell_type": "code",
      "execution_count": 205,
      "id": "H72qxWM0shPR",
      "metadata": {
        "id": "H72qxWM0shPR"
      },
      "outputs": [
        {
          "name": "stderr",
          "output_type": "stream",
          "text": [
            "C:\\Users\\Иван\\AppData\\Local\\Temp\\ipykernel_12200\\1176301150.py:2: UserWarning: pandas only supports SQLAlchemy connectable (engine/connection) or database string URI or sqlite3 DBAPI2 connection. Other DBAPI2 objects are not tested. Please consider using SQLAlchemy.\n",
            "  df = pd.read_sql_query(query_5_6, connection)\n"
          ]
        },
        {
          "name": "stdout",
          "output_type": "stream",
          "text": [
            "   count\n",
            "0   3553\n"
          ]
        }
      ],
      "source": [
        "# результат запроса\n",
        "df = pd.read_sql_query(query_5_6, connection)\n",
        "print(df)"
      ]
    },
    {
      "cell_type": "markdown",
      "id": "7b02bb86-0546-40fb-94a4-242f050a5c57",
      "metadata": {
        "id": "7b02bb86-0546-40fb-94a4-242f050a5c57"
      },
      "source": [
        "7. Для компании «Яндекс» выведите список регионов-миллионников, в которых представлены вакансии компании, вместе с количеством вакансий в этих регионах. Также добавьте строку Total с общим количеством вакансий компании. Результат отсортируйте по возрастанию количества.\n",
        "\n",
        "Список городов-милионников надо взять [отсюда](https://ru.wikipedia.org/wiki/%D0%93%D0%BE%D1%80%D0%BE%D0%B4%D0%B0-%D0%BC%D0%B8%D0%BB%D0%BB%D0%B8%D0%BE%D0%BD%D0%B5%D1%80%D1%8B_%D0%A0%D0%BE%D1%81%D1%81%D0%B8%D0%B8). \n",
        "\n",
        "Если возникнут трудности с этим задание посмотрите материалы модуля  PYTHON-17. Как получать данные из веб-источников и API. "
      ]
    },
    {
      "cell_type": "code",
      "execution_count": 206,
      "id": "ZdfrL6gIs1Pn",
      "metadata": {
        "id": "ZdfrL6gIs1Pn"
      },
      "outputs": [
        {
          "name": "stdout",
          "output_type": "stream",
          "text": [
            "     №            Город Население,  тыс. чел.  (на 1 января 2023 года)\n",
            "0    1           Москва                                         13 098\n",
            "1    2  Санкт-Петербург                                          5 598\n",
            "2    3      Новосибирск                                          1 635\n",
            "3    4     Екатеринбург                                          1 539\n",
            "4    5           Казань                                          1 315\n",
            "5    6  Нижний Новгород                                          1 213\n",
            "6    7       Красноярск                                          1 197\n",
            "7    8        Челябинск                                          1 183\n",
            "8    9           Самара                                          1 164\n",
            "9   10              Уфа                                          1 158\n",
            "10  11   Ростов-на-Дону                                          1 136\n",
            "11  12        Краснодар                                          1 121\n",
            "12  13             Омск                                          1 111\n",
            "13  14          Воронеж                                          1 052\n",
            "14  15            Пермь                                          1 027\n",
            "15  16        Волгоград                                          1 026\n"
          ]
        }
      ],
      "source": [
        "# код для получения списка городов-милионников\n",
        "url = 'https://ru.wikipedia.org/wiki/%D0%93%D0%BE%D1%80%D0%BE%D0%B4%D0%B0-%D0%BC%D0%B8%D0%BB%D0%BB%D0%B8%D0%BE%D0%BD%D0%B5%D1%80%D1%8B_%D0%A0%D0%BE%D1%81%D1%81%D0%B8%D0%B8'\n",
        "response = requests.get(url)\n",
        "page = BeautifulSoup(response.text, 'html.parser')\n",
        "table1 = page.find('table', class_ = 'standard sortable')\n",
        "\n",
        "headers = []\n",
        "for i in table1.find_all('th')[:3]:\n",
        "    title = i.text\n",
        "    headers.append(title)\n",
        "\n",
        "mydata = pd.DataFrame(columns = headers)\n",
        "for j in table1.find_all('tr')[1:]:\n",
        "    row_data = j.find_all('td')\n",
        "    row = [i.text for i in row_data][:3]\n",
        "    length = len(mydata)\n",
        "    mydata.loc[length] = row\n",
        "print(mydata)"
      ]
    },
    {
      "cell_type": "code",
      "execution_count": 207,
      "id": "5a0e32a4-e68a-4365-8a39-2fe24c542c36",
      "metadata": {
        "id": "5a0e32a4-e68a-4365-8a39-2fe24c542c36"
      },
      "outputs": [],
      "source": [
        "# текст запроса\n",
        "query_5_7 = f'''\n",
        "    select\n",
        "        ar.name,\n",
        "        count(*)\n",
        "    from public.vacancies vac\n",
        "    join public.areas ar on ar.id = vac.area_id\n",
        "    join public.employers emp on emp.id = vac.employer_id\n",
        "    where emp.name = 'Яндекс'\n",
        "    group by ar.name\n",
        "    order by 2 desc\n",
        "'''"
      ]
    },
    {
      "cell_type": "code",
      "execution_count": 208,
      "id": "ttPhiO1rsvPq",
      "metadata": {
        "id": "ttPhiO1rsvPq"
      },
      "outputs": [
        {
          "name": "stdout",
          "output_type": "stream",
          "text": [
            "               name  count\n",
            "0            Москва     54\n",
            "1   Санкт-Петербург     42\n",
            "2       Новосибирск     35\n",
            "3      Екатеринбург     39\n",
            "4            Казань     25\n",
            "5   Нижний Новгород     36\n",
            "6        Красноярск     23\n",
            "7         Челябинск     22\n",
            "8            Самара     26\n",
            "9               Уфа     26\n",
            "10   Ростов-на-Дону     25\n",
            "11        Краснодар     30\n",
            "12             Омск     21\n",
            "13          Воронеж     32\n",
            "14            Пермь     25\n",
            "15        Волгоград     24\n",
            "16            Total    485\n"
          ]
        },
        {
          "name": "stderr",
          "output_type": "stream",
          "text": [
            "C:\\Users\\Иван\\AppData\\Local\\Temp\\ipykernel_12200\\3012760276.py:2: UserWarning: pandas only supports SQLAlchemy connectable (engine/connection) or database string URI or sqlite3 DBAPI2 connection. Other DBAPI2 objects are not tested. Please consider using SQLAlchemy.\n",
            "  df = pd.read_sql_query(query_5_7, connection)\n"
          ]
        }
      ],
      "source": [
        "# результат запроса\n",
        "df = pd.read_sql_query(query_5_7, connection)\n",
        "# print(df)\n",
        "yandex = mydata.merge(df, left_on = 'Город', right_on = 'name', how = 'left')\n",
        "yandex = yandex.drop(labels = ['Население,  тыс. чел.  (на 1 января 2023 года)', '№', 'Город'], axis = 1)\n",
        "yandex.loc[len(yandex)] = ['Total', yandex['count'].sum()]\n",
        "print(yandex)"
      ]
    },
    {
      "cell_type": "markdown",
      "id": "04966e40-3bc3-4dc8-9ba2-e80580ce3abc",
      "metadata": {
        "id": "04966e40-3bc3-4dc8-9ba2-e80580ce3abc"
      },
      "source": [
        "***"
      ]
    },
    {
      "cell_type": "markdown",
      "id": "aGGyER-yt4SR",
      "metadata": {
        "id": "aGGyER-yt4SR"
      },
      "source": [
        "### выводы по анализу работодателей  \n",
        "Большинство вакансий предлагают одни из самых крупных и развитых IT компаний России - это Яндекс и Ростелеком. Далее идут крупные банки Сбер и Тинькофф, в которых IT-специалистов требуется не сильно меньше.  \n",
        "Прослеживается корреляция в размере компании и количестве регионов, в которых она публикует вакансии. Филиалы более крупных и развитых компаний можно найти в большем количестве регионов.  \n",
        "У 35% работадателей не указана сфера дефтельности, что несколько затрудняет соискателям поиск подходящей вакансии, а аналитикам не позволяет выстроить полную картину состояния рынка трудоустройства для работников в сфере Data Science.  \n"
      ]
    },
    {
      "cell_type": "markdown",
      "id": "b1ef156a-efcb-49ce-bb23-90763e7f35b2",
      "metadata": {
        "id": "b1ef156a-efcb-49ce-bb23-90763e7f35b2",
        "tags": []
      },
      "source": [
        "# Юнит 6. Предметный анализ"
      ]
    },
    {
      "cell_type": "markdown",
      "id": "b9cd50a0-992d-4988-8463-2b2b1c4629b4",
      "metadata": {
        "id": "b9cd50a0-992d-4988-8463-2b2b1c4629b4"
      },
      "source": [
        "1. Сколько вакансий имеет отношение к данным?\n",
        "\n",
        "Считаем, что вакансия имеет отношение к данным, если в её названии содержатся слова 'data' или 'данн'.\n",
        "\n",
        "*Подсказка: Обратите внимание, что названия вакансий могут быть написаны в любом регистре.* \n"
      ]
    },
    {
      "cell_type": "code",
      "execution_count": 209,
      "id": "54ab0e50-c0f1-47cc-a54b-bc5c8bc363f9",
      "metadata": {
        "id": "54ab0e50-c0f1-47cc-a54b-bc5c8bc363f9"
      },
      "outputs": [],
      "source": [
        "# текст запроса\n",
        "query_6_1 = f'''\n",
        "    select\n",
        "        *\n",
        "    from public.vacancies\n",
        "    where (lower(name) like '%data%') or (lower(name) like '%данн%')\n",
        "'''"
      ]
    },
    {
      "cell_type": "code",
      "execution_count": 210,
      "id": "9F1meAqsuUjd",
      "metadata": {
        "id": "9F1meAqsuUjd"
      },
      "outputs": [
        {
          "name": "stderr",
          "output_type": "stream",
          "text": [
            "C:\\Users\\Иван\\AppData\\Local\\Temp\\ipykernel_12200\\2401383304.py:2: UserWarning: pandas only supports SQLAlchemy connectable (engine/connection) or database string URI or sqlite3 DBAPI2 connection. Other DBAPI2 objects are not tested. Please consider using SQLAlchemy.\n",
            "  df = pd.read_sql_query(query_6_1, connection)\n"
          ]
        },
        {
          "name": "stdout",
          "output_type": "stream",
          "text": [
            "(1771, 10)\n"
          ]
        }
      ],
      "source": [
        "# результат запроса\n",
        "df = pd.read_sql_query(query_6_1, connection)\n",
        "print(df.shape)"
      ]
    },
    {
      "cell_type": "markdown",
      "id": "4dea20cb-a36b-474a-a0b9-e08e8e3857a5",
      "metadata": {
        "id": "4dea20cb-a36b-474a-a0b9-e08e8e3857a5"
      },
      "source": [
        "2. Сколько есть подходящих вакансий для начинающего дата-сайентиста? \n",
        "Будем считать вакансиями для дата-сайентистов такие, в названии которых есть хотя бы одно из следующих сочетаний:\n",
        "* 'data scientist'\n",
        "* 'data science'\n",
        "* 'исследователь данных'\n",
        "* 'ML' (здесь не нужно брать вакансии по HTML)\n",
        "* 'machine learning'\n",
        "* 'машинн%обучен%'\n",
        "\n",
        "** В следующих заданиях мы продолжим работать с вакансиями по этому условию.*\n",
        "\n",
        "Считаем вакансиями для специалистов уровня Junior следующие:\n",
        "* в названии есть слово 'junior' *или*\n",
        "* требуемый опыт — Нет опыта *или*\n",
        "* тип трудоустройства — Стажировка.\n",
        " "
      ]
    },
    {
      "cell_type": "code",
      "execution_count": 211,
      "id": "9c61b3c0-bb66-46c9-ae1e-81d3f5752b4a",
      "metadata": {
        "id": "9c61b3c0-bb66-46c9-ae1e-81d3f5752b4a"
      },
      "outputs": [],
      "source": [
        "# текст запроса\n",
        "query_6_2 = f'''\n",
        "    select\n",
        "        *\n",
        "    from public.vacancies\n",
        "    where\n",
        "        (\n",
        "            (lower(name) like '%data scientist%') or\n",
        "            (lower(name) like '%data science%') or \n",
        "            (lower(name) like '%исследователь данных%') or\n",
        "            ((lower(name) like '%ml%') and (lower(name) not like '%html%')) or\n",
        "            (lower(name) like '%machine learning%') or\n",
        "            (lower(name) like '%машинн%обучен%')\n",
        "        ) and\n",
        "        (\n",
        "            (lower(name) like '%junior%') or\n",
        "            (lower(experience) like 'нет опыта') or\n",
        "            (lower(employment) like 'стажировка')\n",
        "        )\n",
        "'''"
      ]
    },
    {
      "cell_type": "code",
      "execution_count": 212,
      "id": "ZNM-LLYuu1dj",
      "metadata": {
        "id": "ZNM-LLYuu1dj"
      },
      "outputs": [
        {
          "name": "stderr",
          "output_type": "stream",
          "text": [
            "C:\\Users\\Иван\\AppData\\Local\\Temp\\ipykernel_12200\\2386638782.py:2: UserWarning: pandas only supports SQLAlchemy connectable (engine/connection) or database string URI or sqlite3 DBAPI2 connection. Other DBAPI2 objects are not tested. Please consider using SQLAlchemy.\n",
            "  df = pd.read_sql_query(query_6_2, connection)\n"
          ]
        },
        {
          "name": "stdout",
          "output_type": "stream",
          "text": [
            "          id                                               name  \\\n",
            "0   50533416                            Junior+ CV/ML developer   \n",
            "1   54825318                           Data Scientist (Junior+)   \n",
            "2   55145641                              Junior Data Scientist   \n",
            "3   55553897                     Junior Data Scientist (Стажер)   \n",
            "4   55529384     Математик, Junior/Middle/Senior Data Scientist   \n",
            "5   55343709  Data Scientist/Machine Learning Engineer (Deve...   \n",
            "6   54475492                            Data Scientist (Junior)   \n",
            "7   55119989                       Intern/Junior Data Scientist   \n",
            "8   55120211                         Junior Data Scientist (VK)   \n",
            "9   55120401                       Junior/Middle Data Scientist   \n",
            "10  55390769          Data Scientist (Computer Vision) - Junior   \n",
            "11  52158791  Исследователь в области машинного обучения и м...   \n",
            "12  52396406                             Data Scientist, Junior   \n",
            "13  55373640  Junior Data Scientist Управления модельных рис...   \n",
            "14  55552998  Математик-аналитик (data scientist / data anal...   \n",
            "15  54657714                    Data Scientist (junior+/middle)   \n",
            "16  54924841  Стажер направления Машинное обучение и анализ ...   \n",
            "17  55052496                              Junior Data Scientist   \n",
            "18  50072394                 Research Engineer / Data Scientist   \n",
            "19  50996908          Senior Research Engineer / Data Scientist   \n",
            "20  55156731  Стажёр Data Scientist / Группа сервисов Антифр...   \n",
            "21  54830582                              Junior Data Scientist   \n",
            "22  55204943                              Ведущий AI/ML инженер   \n",
            "23  66142163  Junior Data Scientist (математик-аналитик) уда...   \n",
            "24  55074464        Data scientist (Junior/Middle) в консалтинг   \n",
            "25  55064629                              Data Scientist в Сбер   \n",
            "26  55895592             Junior Data Scientist (Promo Forecast)   \n",
            "27  55343711  Data Scientist/Machine Learning Engineer (Deve...   \n",
            "28  55343710  Data Scientist/Machine Learning Engineer (Deve...   \n",
            "29  55095363            Риск - Аналитик (Junior Data scientist)   \n",
            "30  55127391  Junior Data Scientist (Валидация скоринговых м...   \n",
            "31  55127390  Junior Data Scientist (Валидация скоринговых м...   \n",
            "32  55127393  Junior Data Scientist (Валидация скоринговых м...   \n",
            "33  55127395  Junior Data Scientist (Валидация скоринговых м...   \n",
            "34  55127396  Junior Data Scientist (Валидация скоринговых м...   \n",
            "35  55127394  Junior Data Scientist (Валидация скоринговых м...   \n",
            "36  55127397  Junior Data Scientist (Валидация скоринговых м...   \n",
            "37  55127398  Junior Data Scientist (Валидация скоринговых м...   \n",
            "38  55127392  Junior Data Scientist (Валидация скоринговых м...   \n",
            "39  54702840  Программист Python/ Data Scientist (junior / m...   \n",
            "40  55046966             Junior Data Scientist for NLP (Python)   \n",
            "41  55104548       Риск-аналитик (ML Engineer / Data Scientist)   \n",
            "42  54522206            Data Scientist/ML engineer (Python/C++)   \n",
            "43  54882705       Junior Data scientist/ Младший риск-аналитик   \n",
            "44  54948266                         Senior Data Scientist (AI)   \n",
            "45  54556346                              Ведущий AI/ML инженер   \n",
            "46  54949463          Junior Research Engineer / Data Scientist   \n",
            "47  54945920              Python developer / Junior ML engineer   \n",
            "48  54689300                                     Data Scientist   \n",
            "49  52396404                             Data Scientist, Junior   \n",
            "50  55236061          Data Scientist (Computer Vision) / Junior   \n",
            "\n",
            "                                           key_skills          schedule  \\\n",
            "0           Python\\tSQL\\tРабота в команде\\tOpenCV\\tML     Гибкий график   \n",
            "1   Python\\tOpenCV\\tTensorflow\\tComputer Vision\\tН...       Полный день   \n",
            "2   Python\\tSQL\\tMachine Learning\\tData Science\\tА...       Полный день   \n",
            "3   Python\\tSQL\\tData Mining\\tC++\\tМатематический ...     Гибкий график   \n",
            "4   Python\\tMATLAB\\tМатематическое моделирование\\t...  Удаленная работа   \n",
            "5   Machine Learning\\tDeep Learning\\tData Science\\...     Гибкий график   \n",
            "6   Python\\tMachine Learning\\tPandas\\tSQL\\tNumpy\\t...       Полный день   \n",
            "7                                       Linux\\tPython     Гибкий график   \n",
            "8    Python\\tМатематическая статистика\\tАнализ данных       Полный день   \n",
            "9                                       Linux\\tPython     Гибкий график   \n",
            "10               Python\\tML\\tPytorch\\tComputer Vision       Полный день   \n",
            "11  Python\\tMachine Learning\\tМатематическое модел...       Полный день   \n",
            "12  Python\\tSQL\\tJava\\tМатематический анализ\\tМате...       Полный день   \n",
            "13  Математическое моделирование\\tАнализ данных\\tС...       Полный день   \n",
            "14  Python\\tМатематическая статистика\\tПрогнозиров...       Полный день   \n",
            "15  Python\\tМатематическая статистика\\tOracle Pl/S...     Гибкий график   \n",
            "16                                 SQL\\tOracle Pl/SQL       Полный день   \n",
            "17           Python\\tSQL\\tАнглийский язык\\tLinux\\tООП       Полный день   \n",
            "18  Python\\tPyTorch\\tGit\\tTensorflow\\tMachine Lear...       Полный день   \n",
            "19  PyTorch\\tMachine Learning\\tКонференции\\tPython...       Полный день   \n",
            "20  Python\\tSQL\\tPostgreSQL\\tML\\tMachine Learning\\...       Полный день   \n",
            "21       Python\\tSQL\\tMachine Learning\\tDocker\\tNumpy       Полный день   \n",
            "22  Python\\tUnix\\tАналитическое мышление\\tНейронны...  Удаленная работа   \n",
            "23  SQL\\tMS SQL\\tУдаленная работа\\tPython\\tМатемат...  Удаленная работа   \n",
            "24                                         Python\\tML       Полный день   \n",
            "25                                               None       Полный день   \n",
            "26  Python\\tSQL\\tORACLE\\tСтатистический анализ\\tSp...  Удаленная работа   \n",
            "27  Machine Learning\\tDeep Learning\\tData Science\\...     Гибкий график   \n",
            "28  Machine Learning\\tDeep Learning\\tData Science\\...     Гибкий график   \n",
            "29  Python\\tSQL\\tАнглийский язык\\tОбучение и разви...       Полный день   \n",
            "30  Оценка рисков\\tMS PowerPoint\\tСтатистический а...       Полный день   \n",
            "31  Оценка рисков\\tMS PowerPoint\\tСтатистический а...       Полный день   \n",
            "32  Оценка рисков\\tMS PowerPoint\\tСтатистический а...       Полный день   \n",
            "33  Оценка рисков\\tMS PowerPoint\\tСтатистический а...       Полный день   \n",
            "34  Оценка рисков\\tMS PowerPoint\\tСтатистический а...       Полный день   \n",
            "35  Оценка рисков\\tMS PowerPoint\\tСтатистический а...       Полный день   \n",
            "36  Оценка рисков\\tMS PowerPoint\\tСтатистический а...       Полный день   \n",
            "37  Оценка рисков\\tMS PowerPoint\\tСтатистический а...       Полный день   \n",
            "38  Оценка рисков\\tMS PowerPoint\\tСтатистический а...       Полный день   \n",
            "39         Python\\tDjango Framework\\tSQL\\tXML\\tMS SQL       Полный день   \n",
            "40  Английский язык\\tCJM\\tПодготовка презентаций\\t...       Полный день   \n",
            "41                                               None       Полный день   \n",
            "42  ML\\tлинейные модели\\tRandom Forest\\tGradient B...  Удаленная работа   \n",
            "43  Математический анализ\\tБазы данных\\tСтатистика...       Полный день   \n",
            "44  Computer Vision\\tPyTorch\\tTensorflow\\tDeep Lea...       Полный день   \n",
            "45  Python\\tUnix\\tАналитическое мышление\\tНейронны...  Удаленная работа   \n",
            "46  Python\\tTensorflow\\tPyTorch\\tMachine Learning\\...       Полный день   \n",
            "47  Python\\tC++\\tОптимизация кода\\tАнализ кода\\tМа...     Гибкий график   \n",
            "48  Python\\tGit\\tTensorFlow\\tKeras\\tJupiter\\tNLP\\t...       Полный день   \n",
            "49  Python\\tSQL\\tJava\\tМатематический анализ\\tМате...       Полный день   \n",
            "50  Python\\tLinux\\tGit\\tSQL\\tDocker\\tBash\\tOpenCV\\...       Полный день   \n",
            "\n",
            "            experience           employment  salary_from  salary_to  area_id  \\\n",
            "0   От 1 года до 3 лет     Полная занятость          NaN        NaN        4   \n",
            "1   От 1 года до 3 лет     Полная занятость      50000.0    70000.0       72   \n",
            "2            Нет опыта     Полная занятость      50000.0        NaN        2   \n",
            "3            Нет опыта           Стажировка          NaN    37000.0        3   \n",
            "4   От 1 года до 3 лет  Частичная занятость          NaN        NaN     1002   \n",
            "5            Нет опыта  Частичная занятость          NaN        NaN        2   \n",
            "6            Нет опыта  Частичная занятость      45000.0   100000.0        1   \n",
            "7            Нет опыта           Стажировка          NaN        NaN        2   \n",
            "8   От 1 года до 3 лет     Полная занятость          NaN        NaN        1   \n",
            "9   От 1 года до 3 лет     Полная занятость          NaN        NaN        2   \n",
            "10           Нет опыта     Полная занятость          NaN        NaN        1   \n",
            "11           Нет опыта     Полная занятость      80000.0   150000.0        2   \n",
            "12           Нет опыта     Полная занятость          NaN        NaN       72   \n",
            "13  От 1 года до 3 лет     Полная занятость          NaN        NaN        1   \n",
            "14           Нет опыта     Полная занятость          NaN    98000.0        2   \n",
            "15  От 1 года до 3 лет     Полная занятость          NaN        NaN        1   \n",
            "16           Нет опыта           Стажировка          NaN        NaN        1   \n",
            "17  От 1 года до 3 лет     Полная занятость      50000.0        NaN       76   \n",
            "18           Нет опыта     Полная занятость          NaN        NaN        1   \n",
            "19           Нет опыта     Полная занятость          NaN        NaN        1   \n",
            "20           Нет опыта           Стажировка          NaN        NaN        1   \n",
            "21  От 1 года до 3 лет     Полная занятость          NaN        NaN        2   \n",
            "22           Нет опыта     Полная занятость          NaN        NaN       26   \n",
            "23  От 1 года до 3 лет     Полная занятость          NaN        NaN        1   \n",
            "24           Нет опыта     Полная занятость          NaN        NaN        1   \n",
            "25           Нет опыта     Полная занятость          NaN        NaN        1   \n",
            "26  От 1 года до 3 лет     Полная занятость          NaN        NaN        1   \n",
            "27           Нет опыта  Частичная занятость          NaN        NaN       90   \n",
            "28           Нет опыта  Частичная занятость          NaN        NaN        4   \n",
            "29  От 1 года до 3 лет     Полная занятость          NaN        NaN        1   \n",
            "30  От 1 года до 3 лет     Полная занятость          NaN        NaN       66   \n",
            "31  От 1 года до 3 лет     Полная занятость          NaN        NaN        1   \n",
            "32  От 1 года до 3 лет     Полная занятость          NaN        NaN        2   \n",
            "33  От 1 года до 3 лет     Полная занятость          NaN        NaN       90   \n",
            "34  От 1 года до 3 лет     Полная занятость          NaN        NaN       26   \n",
            "35  От 1 года до 3 лет     Полная занятость          NaN        NaN       76   \n",
            "36  От 1 года до 3 лет     Полная занятость          NaN        NaN       95   \n",
            "37  От 1 года до 3 лет     Полная занятость          NaN        NaN        4   \n",
            "38  От 1 года до 3 лет     Полная занятость          NaN        NaN       88   \n",
            "39           Нет опыта     Полная занятость      60000.0   100000.0        4   \n",
            "40           Нет опыта     Полная занятость          NaN        NaN        1   \n",
            "41           Нет опыта     Полная занятость          NaN        NaN     1002   \n",
            "42           Нет опыта     Полная занятость          NaN        NaN       88   \n",
            "43  От 1 года до 3 лет     Полная занятость          NaN        NaN        1   \n",
            "44           Нет опыта     Полная занятость          NaN        NaN        2   \n",
            "45           Нет опыта     Полная занятость          NaN        NaN        3   \n",
            "46  От 1 года до 3 лет     Полная занятость          NaN        NaN        1   \n",
            "47           Нет опыта     Полная занятость          NaN        NaN        1   \n",
            "48           Нет опыта     Полная занятость          NaN        NaN        4   \n",
            "49           Нет опыта     Полная занятость          NaN        NaN       68   \n",
            "50           Нет опыта     Полная занятость      70000.0        NaN       22   \n",
            "\n",
            "    employer_id  \n",
            "0         80190  \n",
            "1        215942  \n",
            "2         40938  \n",
            "3           953  \n",
            "4       1688252  \n",
            "5        675403  \n",
            "6        665449  \n",
            "7          3124  \n",
            "8         15478  \n",
            "9          3124  \n",
            "10      1626408  \n",
            "11      1795976  \n",
            "12      4914081  \n",
            "13         4181  \n",
            "14      2954482  \n",
            "15         2242  \n",
            "16         3127  \n",
            "17      2029927  \n",
            "18       976931  \n",
            "19       976931  \n",
            "20         2180  \n",
            "21      5488399  \n",
            "22      2168135  \n",
            "23       870069  \n",
            "24      2724615  \n",
            "25         3529  \n",
            "26        49357  \n",
            "27       675403  \n",
            "28       675403  \n",
            "29      4448058  \n",
            "30         4181  \n",
            "31         4181  \n",
            "32         4181  \n",
            "33         4181  \n",
            "34         4181  \n",
            "35         4181  \n",
            "36         4181  \n",
            "37         4181  \n",
            "38         4181  \n",
            "39      4602050  \n",
            "40      5979039  \n",
            "41       534346  \n",
            "42        35784  \n",
            "43      1039977  \n",
            "44       168307  \n",
            "45      2168135  \n",
            "46       976931  \n",
            "47      4108548  \n",
            "48         2791  \n",
            "49      4914081  \n",
            "50      5920492  \n"
          ]
        }
      ],
      "source": [
        "# результат запроса\n",
        "df = pd.read_sql_query(query_6_2, connection)\n",
        "print(df)"
      ]
    },
    {
      "cell_type": "markdown",
      "id": "eedceb80-c5ca-480e-b27a-278dfb8b4438",
      "metadata": {
        "id": "eedceb80-c5ca-480e-b27a-278dfb8b4438"
      },
      "source": [
        "3. Сколько есть вакансий для DS, в которых в качестве ключевого навыка указан SQL или postgres?\n",
        "\n",
        "** Критерии для отнесения вакансии к DS указаны в предыдущем задании.*"
      ]
    },
    {
      "cell_type": "code",
      "execution_count": 213,
      "id": "69621713-0cc5-4f1b-a1d7-bb144fa6148c",
      "metadata": {
        "id": "69621713-0cc5-4f1b-a1d7-bb144fa6148c"
      },
      "outputs": [],
      "source": [
        "# текст запроса\n",
        "query_6_3 = f'''\n",
        "    with vacancies_ as (\n",
        "        select *\n",
        "        from public.vacancies\n",
        "        where\n",
        "            (lower(name) like '%data scientist%') or\n",
        "            (lower(name) like '%data science%') or \n",
        "            (lower(name) like '%исследователь данных%') or\n",
        "            ((name like '%ML%') and (name not like '%HTML%')) or\n",
        "            (lower(name) like '%machine learning%') or\n",
        "            (lower(name) like '%машинн%обучен%')\n",
        "    )\n",
        "    select *\n",
        "    from vacancies_\n",
        "    where (key_skills like '%SQL%') or (key_skills like '%postgres%')\n",
        "'''"
      ]
    },
    {
      "cell_type": "code",
      "execution_count": 214,
      "id": "alA8WEAAvGdf",
      "metadata": {
        "id": "alA8WEAAvGdf"
      },
      "outputs": [
        {
          "name": "stderr",
          "output_type": "stream",
          "text": [
            "C:\\Users\\Иван\\AppData\\Local\\Temp\\ipykernel_12200\\2342775382.py:2: UserWarning: pandas only supports SQLAlchemy connectable (engine/connection) or database string URI or sqlite3 DBAPI2 connection. Other DBAPI2 objects are not tested. Please consider using SQLAlchemy.\n",
            "  df = pd.read_sql_query(query_6_3, connection)\n"
          ]
        },
        {
          "name": "stdout",
          "output_type": "stream",
          "text": [
            "(201, 10)\n"
          ]
        }
      ],
      "source": [
        "# результат запроса\n",
        "df = pd.read_sql_query(query_6_3, connection)\n",
        "print(df.shape)"
      ]
    },
    {
      "cell_type": "markdown",
      "id": "1be1e9c6-37cf-4a5f-bfeb-04cab799dc80",
      "metadata": {
        "id": "1be1e9c6-37cf-4a5f-bfeb-04cab799dc80"
      },
      "source": [
        "4. Проверьте, насколько популярен Python в требованиях работодателей к DS.Для этого вычислите количество вакансий, в которых в качестве ключевого навыка указан Python.\n",
        "\n",
        "** Это можно сделать помощью запроса, аналогичного предыдущему.*"
      ]
    },
    {
      "cell_type": "code",
      "execution_count": 215,
      "id": "0036a355-9ccf-4564-8b01-73d8194297e7",
      "metadata": {
        "id": "0036a355-9ccf-4564-8b01-73d8194297e7"
      },
      "outputs": [],
      "source": [
        "# текст запроса\n",
        "query_6_4 = f'''\n",
        "    with vacancies_ as (\n",
        "        select *\n",
        "        from public.vacancies\n",
        "        where\n",
        "            (lower(name) like '%data scientist%') or\n",
        "            (lower(name) like '%data science%') or \n",
        "            (lower(name) like '%исследователь данных%') or\n",
        "            ((name like '%ML%') and (name not like '%HTML%')) or\n",
        "            (lower(name) like '%machine learning%') or\n",
        "            (lower(name) like '%машинн%обучен%')\n",
        "    )\n",
        "    select *\n",
        "    from vacancies_\n",
        "    where (key_skills like '%Python%')\n",
        "'''"
      ]
    },
    {
      "cell_type": "code",
      "execution_count": 216,
      "id": "1i-5WyucvQ6v",
      "metadata": {
        "id": "1i-5WyucvQ6v"
      },
      "outputs": [
        {
          "name": "stderr",
          "output_type": "stream",
          "text": [
            "C:\\Users\\Иван\\AppData\\Local\\Temp\\ipykernel_12200\\361131444.py:2: UserWarning: pandas only supports SQLAlchemy connectable (engine/connection) or database string URI or sqlite3 DBAPI2 connection. Other DBAPI2 objects are not tested. Please consider using SQLAlchemy.\n",
            "  df = pd.read_sql_query(query_6_4, connection)\n"
          ]
        },
        {
          "name": "stdout",
          "output_type": "stream",
          "text": [
            "(351, 10)\n"
          ]
        }
      ],
      "source": [
        "# результат запроса\n",
        "df = pd.read_sql_query(query_6_4, connection)\n",
        "print(df.shape)"
      ]
    },
    {
      "cell_type": "markdown",
      "id": "ec3c8db7-fa21-4a41-a994-1af63742a642",
      "metadata": {
        "id": "ec3c8db7-fa21-4a41-a994-1af63742a642"
      },
      "source": [
        "5. Сколько ключевых навыков в среднем указывают в вакансиях для DS?\n",
        "Ответ округлите до двух знаков после точки-разделителя."
      ]
    },
    {
      "cell_type": "code",
      "execution_count": 217,
      "id": "949132bc-d5b6-4611-8218-0b9a504d74f4",
      "metadata": {
        "id": "949132bc-d5b6-4611-8218-0b9a504d74f4"
      },
      "outputs": [],
      "source": [
        "# текст запроса\n",
        "query_6_5 = f'''\n",
        "    with vacancies_ as (\n",
        "        select *\n",
        "        from public.vacancies\n",
        "        where\n",
        "            (lower(name) like '%data scientist%') or\n",
        "            (lower(name) like '%data science%') or \n",
        "            (lower(name) like '%исследователь данных%') or\n",
        "            ((name like '%ML%') and (name not like '%HTML%')) or\n",
        "            (lower(name) like '%machine learning%') or\n",
        "            (lower(name) like '%машинн%обучен%')\n",
        "    )\n",
        "    select\n",
        "        key_skills,\n",
        "        cardinality(string_to_array(key_skills, '\\t')) as array\n",
        "    from vacancies_ vac\n",
        "    union all\n",
        "    select\n",
        "        'mean',\n",
        "        avg(cardinality(string_to_array(key_skills, '\\t')))\n",
        "    from vacancies_ vac\n",
        "    \n",
        "'''"
      ]
    },
    {
      "cell_type": "code",
      "execution_count": 218,
      "id": "a3V24Tvmviqk",
      "metadata": {
        "id": "a3V24Tvmviqk"
      },
      "outputs": [
        {
          "name": "stderr",
          "output_type": "stream",
          "text": [
            "C:\\Users\\Иван\\AppData\\Local\\Temp\\ipykernel_12200\\4051561159.py:2: UserWarning: pandas only supports SQLAlchemy connectable (engine/connection) or database string URI or sqlite3 DBAPI2 connection. Other DBAPI2 objects are not tested. Please consider using SQLAlchemy.\n",
            "  df = pd.read_sql_query(query_6_5, connection)\n"
          ]
        },
        {
          "name": "stdout",
          "output_type": "stream",
          "text": [
            "                                            key_skills     array\n",
            "0            Python\\tSQL\\tРабота в команде\\tOpenCV\\tML  5.000000\n",
            "1    Oracle Pl/SQL\\tБазы данных\\tMachine Learning\\t...  9.000000\n",
            "2    Python\\tOpenCV\\tTensorflow\\tComputer Vision\\tН...  8.000000\n",
            "3                       Python\\tFlask\\tLinux\\tAWS\\tGit  5.000000\n",
            "4     Python\\tSQL\\tNLP\\tScikit-learn\\tMachine Learning  5.000000\n",
            "..                                                 ...       ...\n",
            "476           Python\\tScikit-learn\\tPandas\\tGit\\tNumpy  5.000000\n",
            "477  Qt\\tООП\\tC++\\tMS Visual Studio\\tРазработка ком...  6.000000\n",
            "478  SCALA\\tSQL\\tМатематический анализ\\tСтатистичес...  7.000000\n",
            "479  Python\\tLinux\\tKubernetes\\tAWS\\tGit\\tPeople Ma...  6.000000\n",
            "480                                               mean  6.406032\n",
            "\n",
            "[481 rows x 2 columns]\n"
          ]
        }
      ],
      "source": [
        "# результат запроса\n",
        "df = pd.read_sql_query(query_6_5, connection)\n",
        "print(df)"
      ]
    },
    {
      "cell_type": "markdown",
      "id": "1041c17a-ca8f-4543-a0ca-32778914fb00",
      "metadata": {
        "id": "1041c17a-ca8f-4543-a0ca-32778914fb00"
      },
      "source": [
        "6. Напишите запрос, позволяющий вычислить, какую зарплату для DS в **среднем** указывают для каждого типа требуемого опыта (уникальное значение из поля *experience*). \n",
        "\n",
        "При решении задачи примите во внимание следующее:\n",
        "1. Рассматриваем только вакансии, у которых заполнено хотя бы одно из двух полей с зарплатой.\n",
        "2. Если заполнены оба поля с зарплатой, то считаем зарплату по каждой вакансии как сумму двух полей, делённую на 2. Если заполнено только одно из полей, то его и считаем зарплатой по вакансии.\n",
        "3. Если в расчётах участвует null, в результате он тоже даст null (посмотрите, что возвращает запрос select 1 + null). Чтобы избежать этой ситуацию, мы воспользуемся функцией [coalesce](https://postgrespro.ru/docs/postgresql/9.5/functions-conditional#functions-coalesce-nvl-ifnull), которая заменит null на значение, которое мы передадим. Например, посмотрите, что возвращает запрос `select 1 + coalesce(null, 0)`\n",
        "\n",
        "Выясните, на какую зарплату в среднем может рассчитывать дата-сайентист с опытом работы от 3 до 6 лет. Результат округлите до целого числа. "
      ]
    },
    {
      "cell_type": "code",
      "execution_count": 219,
      "id": "6a743d39-5204-48d3-8271-b9f88e68d40e",
      "metadata": {
        "id": "6a743d39-5204-48d3-8271-b9f88e68d40e"
      },
      "outputs": [],
      "source": [
        "# текст запроса\n",
        "query_6_6 = f'''\n",
        "    with vacancies_ as (\n",
        "        select *\n",
        "        from public.vacancies\n",
        "        where\n",
        "            (lower(name) like '%data scientist%') or\n",
        "            (lower(name) like '%data science%') or \n",
        "            (lower(name) like '%исследователь данных%') or\n",
        "            ((name like '%ML%') and (name not like '%HTML%')) or\n",
        "            (lower(name) like '%machine learning%') or\n",
        "            (lower(name) like '%машинн%обучен%')\n",
        "    )\n",
        "    select\n",
        "        experience,\n",
        "        avg((coalesce(salary_to, salary_from) + coalesce(salary_from, salary_to)) / 2)\n",
        "    from vacancies_\n",
        "    where (salary_from is not null) or (salary_to is not null)\n",
        "    group by experience\n",
        "'''"
      ]
    },
    {
      "cell_type": "code",
      "execution_count": 220,
      "id": "aRIJ0mZEwU1_",
      "metadata": {
        "id": "aRIJ0mZEwU1_"
      },
      "outputs": [
        {
          "name": "stderr",
          "output_type": "stream",
          "text": [
            "C:\\Users\\Иван\\AppData\\Local\\Temp\\ipykernel_12200\\1300537.py:2: UserWarning: pandas only supports SQLAlchemy connectable (engine/connection) or database string URI or sqlite3 DBAPI2 connection. Other DBAPI2 objects are not tested. Please consider using SQLAlchemy.\n",
            "  df = pd.read_sql_query(query_6_6, connection)\n"
          ]
        },
        {
          "name": "stdout",
          "output_type": "stream",
          "text": [
            "           experience            avg\n",
            "0       От 3 до 6 лет  243114.666667\n",
            "1  От 1 года до 3 лет  139674.750000\n",
            "2           Нет опыта   74642.857143\n"
          ]
        }
      ],
      "source": [
        "# результат запроса\n",
        "df = pd.read_sql_query(query_6_6, connection)\n",
        "print(df)"
      ]
    },
    {
      "cell_type": "markdown",
      "id": "6a7892b4-4113-4746-adce-18aa2844f18e",
      "metadata": {
        "id": "6a7892b4-4113-4746-adce-18aa2844f18e"
      },
      "source": [
        "***"
      ]
    },
    {
      "cell_type": "markdown",
      "id": "UjLWUptVwY1o",
      "metadata": {
        "id": "UjLWUptVwY1o"
      },
      "source": [
        "## выводы по предметному анализу\n",
        "В нашем датасете представлена 1771 вакансия, имеющая отношение к данным, что составляет всего 3.6% от общего числа IT-вакансий. Для начинающих специалистов этой области, представлено всего 51 вакансия. Из этого можно сделать вывод, что во времена создания датасета специалисты по данным не пользовались особой популярностью. Особенно мало вакансий для людей, не имеющих опыта работы в этой сфере.  \n",
        "В 201 вакансии требуются знания SQL или Postgres, следовательно каждый специалист должен владеть этими навыками, так как SQL один из самых популярных языков запросов.  \n",
        "351 вакансия требует знаний языка Python, и это неудивительно, потому что этот язык в последнее время набирает большую популярность во многих IT-сферах, благодаря своей простоте и универсальности.  \n",
        "В среднем работадатели в требованиях указывают 6 навыков. Это говорит о том, что специалисты в этой сфере должны уметь работать с довольно большим количеством инструментов и технологий.  "
      ]
    },
    {
      "cell_type": "markdown",
      "id": "c0ED6fh7wiBT",
      "metadata": {
        "id": "c0ED6fh7wiBT"
      },
      "source": [
        "# Общий вывод по проекту"
      ]
    },
    {
      "cell_type": "markdown",
      "id": "h9B3BL-wwj18",
      "metadata": {
        "id": "h9B3BL-wwj18"
      },
      "source": [
        "Крупные и развитые IT-компании, такие как Яндекс, Сбер, Газпром и др. предосталвяют большего всего вакансий с более высокой средней заплатой. Большинство их вакансий находятся в крупных городах. Маленькие компании обычно предлагают от 1 до 5 вакансий, с меньшей средней з/п.  \n",
        "Средняя верхняя граница зарплаты 110000 рублей, что довольно низкий показатель. Возможно из-за того, что представлено довольно много вакансий для начинающих специалистов (с опытом 1 - 3 года) или много вакансий в маленьких компаниях в маленьких городах(требует дополнительного исследования).  \n",
        "Треть работадателей не указывают сферу деятельности, что не очень приятно при поиске работы и при анализе рынка труда.  \n",
        "В целом довольно высокие требования для специалистов в сфере Data Science и довольно мало вакансий для этой профессии без опыта работы.\n"
      ]
    }
  ],
  "metadata": {
    "colab": {
      "collapsed_sections": [
        "8d62a9f3-f64e-4fe7-bdac-c4dffa16155e"
      ],
      "provenance": []
    },
    "kernelspec": {
      "display_name": "Python 3 (ipykernel)",
      "language": "python",
      "name": "python3"
    },
    "language_info": {
      "codemirror_mode": {
        "name": "ipython",
        "version": 3
      },
      "file_extension": ".py",
      "mimetype": "text/x-python",
      "name": "python",
      "nbconvert_exporter": "python",
      "pygments_lexer": "ipython3",
      "version": "3.10.8"
    }
  },
  "nbformat": 4,
  "nbformat_minor": 5
}
